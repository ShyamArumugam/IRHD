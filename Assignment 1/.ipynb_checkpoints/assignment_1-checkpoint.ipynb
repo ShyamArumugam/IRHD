{
 "cells": [
  {
   "cell_type": "markdown",
   "metadata": {},
   "source": [
    "# Information Retrieval in High Dimensional Data - Assignment 1\n",
    "\n",
    "<h3><strong>Group 29:</strong></h3>\n",
    "<li>Smith Agarwal</li>\n",
    "<li>Shyam Arumugaswamy</li>\n",
    "<li>Mainak Ghosh</li>\n",
    "<li>Shayoni Halder</li>\n",
    "<li>Aadhithya Sankar</li>"
   ]
  },
  {
   "cell_type": "markdown",
   "metadata": {},
   "source": [
    "### Task 1:\n",
    "\n",
    "##### Answer here.\n"
   ]
  },
  {
   "cell_type": "markdown",
   "metadata": {},
   "source": [
    "### Task 2: \n",
    "\n",
    "###### -Adhi"
   ]
  },
  {
   "cell_type": "code",
   "execution_count": 28,
   "metadata": {},
   "outputs": [],
   "source": [
    "import numpy as np\n",
    "from scipy.spatial.distance import cosine\n",
    "import matplotlib.pyplot as plt\n",
    "import time"
   ]
  },
  {
   "cell_type": "code",
   "execution_count": 41,
   "metadata": {},
   "outputs": [],
   "source": [
    "def avg_min_angle(X):\n",
    "    # Function returns the average of all the minimum angles.\n",
    "    angles=[]\n",
    "    for x_o in X:\n",
    "        ang_in = []\n",
    "        for x in X:\n",
    "            if x_o is not x:\n",
    "                #We use the inbuilt cosine distance function to find Cos(A)\n",
    "                ang_in += [cosine(x_o,x)]\n",
    "        #Here, we add only the minimum angle to the list. The minimum angle is found using the arccos function.\n",
    "        angles += [np.arccos(min(ang_in))]\n",
    "    return np.average(np.array(angles))"
   ]
  },
  {
   "cell_type": "code",
   "execution_count": 40,
   "metadata": {},
   "outputs": [
    {
     "name": "stdout",
     "output_type": "stream",
     "text": [
      "Case \td= 2\tn=100\n",
      "Average Min Angle:1.5707963267948963\n",
      "-----\n",
      "done.\n",
      "Execution Time: 4.938307134310405 min.\n",
      "-----\n",
      "\n"
     ]
    }
   ],
   "source": [
    "#variable denoting dimension of the vector\n",
    "n = 100\n",
    "#generate n1 x d1 random vectors from  uniform[-1,1]\n",
    "min_angle_avg=[]\n",
    "tic = time.time()\n",
    "for i,d in enumerate(range(2,1000)):\n",
    "    #Generate random vectors as per requirement. Vectors drawn from a uniform distribution.\n",
    "    X = np.random.uniform(-1,1,(n,d))\n",
    "    #get average fo minimum angles for each dimension d=[2,1000]\n",
    "    min_angle_avg += [avg_min_angle(X)]\n",
    "    #print(i)\n",
    "    if d is 2:\n",
    "        print('Case \\td= 2\\tn=100')\n",
    "        print('Average Min Angle:'+str(min_angle_avg[i]))\n",
    "toc = time.time()\n",
    "print('-----')\n",
    "print('done.')      \n",
    "print('Execution Time: '+str((toc-tic)/60)+' min.\\n-----\\n')"
   ]
  },
  {
   "cell_type": "code",
   "execution_count": 35,
   "metadata": {},
   "outputs": [
    {
     "data": {
      "image/png": "[encoded data removed]",
      "text/plain": [
       "<Figure size 432x288 with 1 Axes>"
      ]
     },
     "metadata": {
      "needs_background": "light"
     },
     "output_type": "display_data"
    }
   ],
   "source": [
    "#We plot here.\n",
    "x_a = np.arange(2,1000)\n",
    "_ = plt.plot(x_a,min_angle_avg,'r')\n",
    "_ = plt.axis([2,1000,0,max(min_angle_avg)+1])\n",
    "_ = plt.title('Plot: Dimensions vs. Avg. Angle')\n",
    "_ = plt.xlabel('Dimensions')\n",
    "_ = plt.ylabel('Avg. Angle')\n",
    "_ = plt.show()\n"
   ]
  },
  {
   "cell_type": "code",
   "execution_count": 39,
   "metadata": {},
   "outputs": [
    {
     "name": "stdout",
     "output_type": "stream",
     "text": [
      "------\n",
      "n=2\n",
      "Average Min Angle:1.5707963267948963\n",
      "------\n",
      "n=100\n",
      "Average Min Angle:1.5707963267948963\n",
      "------\n",
      "n=250\n",
      "Average Min Angle:1.5707963267948963\n",
      "\n",
      "\n",
      "Execution Time: 0.03259810209274292 min.\n"
     ]
    }
   ],
   "source": [
    "#Here we find average of minimum angles for different sample sizes.\n",
    "n = [2,100,250]\n",
    "d = 2\n",
    "tic = time.time()\n",
    "for ni in n:\n",
    "    X = np.random.uniform(-1,1,(ni,d))\n",
    "    min_ang_avg = avg_min_angle(X)\n",
    "    print('------\\nn='+str(ni))\n",
    "    print('Average Min Angle:'+str(min_angle_avg[i]))\n",
    "toc = time.time()\n",
    "print('\\n\\nExecution Time: '+str((toc-tic)/60)+ ' min.')"
   ]
  },
  {
   "cell_type": "markdown",
   "metadata": {},
   "source": [
    "### Result Interpretation:\n",
    "\n",
    "<li> We see that for any  pair of random vectors drawn from $\\backsim Uniform(-1,1)^d$   $\\forall d \\geqslant 2$, the average angle between them is <strong>1.570 degrees</strong>.</li>\n",
    "<li> The result remains the same irrespective of how large the sample size is.</li>"
   ]
  },
  {
   "cell_type": "markdown",
   "metadata": {},
   "source": [
    "### Task 3:\n",
    "\n",
    "###### -Aadhi + Shyam\n",
    "<br>\n",
    "<li>Yes, because the total probablity, $\\sideset{}{_{x=1}^2}\\sum\\sideset{}{_{y=1}^3}\\sum P(x,y) = 1$.</li><br>\n",
    "<li><p>We know that $\\mathbb{E}_{Y|X=2}[Y]$ is just the mean of $p(Y|X=2)$.<br>\n",
    "    Therefore, $\\mathbb{E}_{Y|X=2}[Y] = \\frac{1}{3}(p(Y=1|X=2)+p(Y=2|X=2)+p(Y=3|X=2) = \\frac{1}{3}(0.4 + 0.14 + 0.05) = 0.1966$.</p></li><br>\n",
    "<li> <p>Condition for joint density function :<br>\n",
    "$p(x,y) >= 0$ for all x,y and $\\sideset{}{_{x = 0} ^\\infty}\\int \\sideset{}{_{y = 0} ^\\infty}\\int p(x,y) dxdy = 1  $ <br>\n",
    "    From the function defined, we can say that $p(x,y) >= 0$ <br>\n",
    "    $\\sideset{}{_{x = 0} ^\\infty}\\int \\sideset{}{_{y = 0} ^\\infty}\\int p(x,y) dxdy = \\sideset{}{_{x = 0} ^1}\\int \\sideset{}{_{y = 0} ^\\frac{1}{2}}\\int 1 dxdy = \\sideset{}{_{x = 0} ^1}\\int \\frac{1}{2} dx = \\frac{1}{2}  $ <br>\n",
    "    As $\\sideset{}{_{x = 0} ^\\infty}\\int \\sideset{}{_{y = 0} ^\\infty}\\int p(x,y) dxdy \\neq 1  $ , $p(x,y)$ is not a joint density function </p></li><br>\n",
    "<li>We know that $p(x,y) = 2e^{-(x+y)}$ for  $0\\leqslant x\\leqslant y, 0\\leqslant y$. \n",
    "    <h5>Marginal Density of X:</h5><br> Marginal Density of X is obtained by integrating the Joint PDF over the range of Y.<br>\n",
    "    $p(X) = \\sideset{}{_{y = 0} ^\\infty}\\int p(x,y) dy = \\sideset{}{_{y = 0} ^\\infty}\\int2e^{-(x+y)} dy = 2e^{-x}  $<br>\n",
    "    Similarly, Marginal PDF of Y is obtained by integrating the Joint over X.<br>\n",
    "    $p(X) = \\sideset{}{_{x = 0} ^y}\\int p(x,y) dx = \\sideset{}{_{x = -0} ^y}\\int2e^{-(x+y)} dx = 2(e^{-y}-e^{-2y})$\n",
    "</li><br>\n",
    "<li><p> $p(x,y) = \\frac{1}{15} (2x + 4y) \\hspace{5mm} 0<x<3 , 0<y<1 $  <br>\n",
    "              $ \\hspace{3cm} 0 \\hspace{5mm}otherwise$ <br>\n",
    "            To find   $ Pr(X \\leqslant 2 | Y = \\frac{1}{2}) $ <br>\n",
    "            $ p_{X|Y} (x|y) = \\frac{p_{X,Y} (x,y)}{p_{Y} (y)} $ <br>\n",
    "            $p_{Y}(y) = \\sideset{}{_{x = -\\infty} ^\\infty}\\int p_{X,Y}(x,y) dx = \\sideset{}{_{x = -\\infty} ^0}\\int p_{X,Y}(x,y) dx + \\sideset{}{_{x = 0} ^3}\\int p_{X,Y}(x,y) dx + \\sideset{}{_{x = 3} ^\\infty}\\int p_{X,Y}(x,y) dx $ <br>\n",
    "            $\\hspace{5cm} =  0 + \\sideset{}{_{x = 0} ^3} \\int \\frac{1}{15} (2x + 4y) dx + 0  $ <br>\n",
    "            $\\hspace{5cm} =  \\frac{1}{15} [x^2 + 4xy] _{0} ^3  = \\frac{1}{15}(9 + 12y) $ <br>            \n",
    "            $ p_{X|Y} (x|y) = \\frac{p_{X,Y} (x,y)}{p_{Y} (y)} = \\frac{\\frac{1}{15} (2x + 4y)}{\\frac{1}{15}(9 + 12y)} = \\frac{ (2x + 4y)}{(9 + 12y)} \\hspace{5mm} 0<x<3 , 0<y<1 $ <br>\n",
    "            $ \\hspace{3cm} 0 \\hspace{5mm}otherwise$ <br> \n",
    "            $ p_{X|Y} (x|y=\\frac{1}{2}) = \\frac{ (2x + 4 \\frac{1}{2})}{(9 + 12 \\frac{1}{2})} = \\frac{2x + 2}{9 + 6} = \\frac{2(x + 1)}{15} \\hspace{5mm} 0<x<3 $ <br>\n",
    "            $ \\hspace{3cm} 0 \\hspace{5mm}otherwise$ <br> \n",
    "             $ Pr(X \\leqslant 2 | Y = \\frac{1}{2}) = \\sideset{}{_{x = -\\infty} ^2}\\int p_{X|Y} (x|y=\\frac{1}{2}) dx $ <br>\n",
    "             $\\hspace{3cm} = \\sideset{}{_{x = -\\infty} ^0}\\int p_{X|Y} (x|y=\\frac{1}{2}) dx + \\sideset{}{_{x = 0} ^2}\\int p_{X|Y} (x|y=\\frac{1}{2}) dx $ <br>\n",
    "             $\\hspace{3cm} = 0 + \\frac{2}{15}\\sideset{}{_{x = 0} ^2}\\int (x + 1) dx $ <br>\n",
    "             $\\hspace{3cm} = \\frac{2}{15} [\\frac{x^2}{2} + x] _{0} ^2 $ <br>\n",
    "             $\\hspace{3cm} = \\frac{8}{15} $ <br>\n",
    "             \n",
    "   </p>   </li><br>\n"
   ]
  },
  {
   "cell_type": "markdown",
   "metadata": {},
   "source": [
    "### Task 4:\n",
    "\n",
    "###### -Adhi\n",
    "\n",
    "<li> <h6>To prove that covarience matrix $C$ of a random variable $X \\in \\mathbb{R}^p$ is positive semi-difinite, we have to prove $xCx^T \\geqslant 0$ $\\forall x \\in \\mathbb{R}^p$.</h6>\n",
    "    <p>\n",
    "        Let $X \\in \\mathbb{R}^p = (X_{1},X_{2},...X_{p})$<br><br>\n",
    "        Then the mean is given by:<br>\n",
    "        $\\overline{X} = \\frac{1}{p}\\sideset{}{_{i=1}^p}\\sum X_i$<br><br>\n",
    "        Then the Covarience Matrix is:<br>\n",
    "        $C = \\frac{1}{p}\\sideset{}{_{i=1}^p}\\sum(X_i-\\overline{X})(X_i-\\overline{X})^T$<br><br>\n",
    "        For any non-zero vector $x\\in\\mathbb{R}^p$:<br>\n",
    "        $x^TCx = x^T(\\frac{1}{p}\\sideset{}{_{i=1}^p}\\sum(X_i-\\overline{X})(X_i-\\overline{X})^T)x$<br>\n",
    "        $= \\frac{1}{n}\\sideset{}{_{i=1}^p}\\sum x^T(X_i-\\overline{X})(X_i-\\overline{X})^Tx$\n",
    "        $= \\frac{1}{n}\\sideset{}{_{i=1}^p}\\sum ((X_i-\\overline{X}))^2x \\geqslant 0$.    $(*)$<br>\n",
    "        <br> $(*)$ is always positive because of the square term. Therefore, Covarience matrix C is always positive semi-definite.<br>\n",
    "   </p>\n",
    "</li>\n",
    "<li><h6>To prove Covarience Matrix is symmetric.</h6>\n",
    "<p>Let $C$ be the covarience matrix of $X \\in \\mathbb{R}^p$. LEt $\\overline{X}$ be the mean of $X$.\n",
    "<br>Then varience between any $X_i$ and $X_j$ is the $(i,j)^{th}$ element of $C$, <br>\n",
    "    $C_{ij} = E[(X_i - \\overline{X})(X_j - \\overline{X})] = \\sigma_{ij}$    $(1)$<br><br>\n",
    "    Then, <br>\n",
    "    $C_{ji} = E[(X_j - \\overline{X})(X_i - \\overline{X})] = \\sigma_{ji}$    $(2)$<br><br>\n",
    "    We clearly see that,<br>\n",
    "    $(1) == (2)$<br><br>\n",
    "    Therefore, we can say that the covarience matrix C is symmetric, i.e. $C = C^T$.\n",
    "    </p>\n",
    "</li>\n",
    "\n",
    "###### Hence, we've proven that the covarience matrix C for any random variable X is symmetric and positive semi-definite."
   ]
  },
  {
   "cell_type": "code",
   "execution_count": null,
   "metadata": {},
   "outputs": [],
   "source": []
  }
 ],
 "metadata": {
  "kernelspec": {
   "display_name": "Python 3",
   "language": "python",
   "name": "python3"
  },
  "language_info": {
   "codemirror_mode": {
    "name": "ipython",
    "version": 3
   },
   "file_extension": ".py",
   "mimetype": "text/x-python",
   "name": "python",
   "nbconvert_exporter": "python",
   "pygments_lexer": "ipython3",
   "version": "3.5.5"
  }
 },
 "nbformat": 4,
 "nbformat_minor": 2
}
