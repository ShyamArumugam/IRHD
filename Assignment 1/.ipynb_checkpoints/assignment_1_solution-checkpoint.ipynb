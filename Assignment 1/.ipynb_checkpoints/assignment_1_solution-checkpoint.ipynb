{
 "cells": [
  {
   "cell_type": "markdown",
   "metadata": {},
   "source": [
    "# Information Retrieval in High Dimensional Data - Assignment 1\n",
    "\n",
    "<h3><strong>Group 29:</strong></h3>\n",
    "<li>Smith Agarwal</li>\n",
    "<li>Shyam Arumugaswamy</li>\n",
    "<li>Mainak Ghosh</li>\n",
    "<li>Shayoni Halder</li>\n",
    "<li>Aadhithya Sankar</li>"
   ]
  },
  {
   "cell_type": "markdown",
   "metadata": {},
   "source": [
    "### Task 1:\n",
    "\n",
    "a) According to the question, X is uniformly distributed in $C_1$ and $Pr(X \\in C_d) = q$\n",
    "\n",
    "Now, if $d\\ge1$, then X certainly lies inside $C_d$, so $Pr(X \\in C_d) = q=1$\n",
    "\n",
    "if $d\\lt1$ then\n",
    "\n",
    "we know that volume of a hypercube having in p dimensions whose length of edge is d is $$d^p$$\n",
    "\n",
    "Volume of X is 1, since $X \\in C_1$, so we can say that,\n",
    "$$Pr(X \\in C_d) = q=\\frac{d^p}{1}$$\n",
    "\n",
    "so, $d=q^\\frac{1}{p}$\n",
    "\n",
    "b) As per the question, components of the p-dimensional random variable X p be independent and\n",
    "have the standard normal distribution.\n",
    "\n",
    "Given, $Pr(|X^1| \\le 2.576) = 0.99$\n",
    "\n",
    "Need to find $Pr(||X^p||_\\infty \\gt 2.576)$\n",
    "\n",
    "$Pr(||X^p||_\\infty \\gt 2.576)=1-Pr(||X^p||_\\infty \\le 2.576)$\n",
    "\n",
    "Since, $X^p_i$, where $i \\in [1,p]$ is i.i.d, $Pr(||X^p||_\\infty \\le 2.576)=\\prod_1^p Pr(|X^p_i| \\le 2.576)=0.99^p$\n",
    "\n",
    "$Pr(||X^p||_\\infty \\gt 2.576)=1-0.99^p$\n",
    "\n",
    "For P=2, $Pr(||X^p||_\\infty \\gt 2.576)=1-0.99^2=0.0199$\n",
    "\n",
    "For P=3, $Pr(||X^p||_\\infty \\gt 2.576)=1-0.99^3=0.029701$\n",
    "\n",
    "For P=500, $Pr(||X^p||_\\infty \\gt 2.576)=1-0.99^{500}=0.9934$\n"
   ]
  },
  {
   "cell_type": "markdown",
   "metadata": {},
   "source": [
    "### Task 2: \n"
   ]
  },
  {
   "cell_type": "markdown",
   "metadata": {},
   "source": [
    "Provide the PYTHON code to the following tasks (the code needs to be commented properly):\n",
    "\n",
    "* Sample 100 uniformly distributed random vectors from the box $[−1, 1]^d$ for d = 2."
   ]
  },
  {
   "cell_type": "code",
   "execution_count": 1,
   "metadata": {},
   "outputs": [
    {
     "data": {
      "text/plain": [
       "array([[  6.21072791e-01,   1.36503209e-01],\n",
       "       [ -1.27416847e-01,  -6.48320950e-01],\n",
       "       [ -8.33875385e-01,   1.81617412e-01],\n",
       "       [  1.54956218e-01,   4.66212257e-01],\n",
       "       [ -2.03212128e-02,   1.57325827e-02],\n",
       "       [ -2.41694933e-01,   3.00798362e-02],\n",
       "       [ -2.44665460e-01,  -1.53209369e-01],\n",
       "       [ -9.42564199e-01,   6.41688781e-01],\n",
       "       [  4.53658244e-02,  -2.40862452e-01],\n",
       "       [ -5.33318482e-01,   7.74197472e-01],\n",
       "       [  1.10460555e-01,   8.38676399e-01],\n",
       "       [  9.65938516e-01,  -8.05481357e-01],\n",
       "       [  7.31877063e-01,  -4.35528949e-02],\n",
       "       [  2.09408021e-01,  -3.79796984e-01],\n",
       "       [  5.16467167e-01,   8.80700041e-01],\n",
       "       [ -6.56616640e-01,   4.93678135e-03],\n",
       "       [ -4.19011748e-01,  -8.40929447e-02],\n",
       "       [  1.23051167e-01,  -9.02879645e-01],\n",
       "       [  9.25935708e-01,  -8.05246659e-01],\n",
       "       [  9.22845585e-01,   2.48845333e-01],\n",
       "       [  4.37271985e-01,  -3.63385843e-02],\n",
       "       [  8.83812163e-01,   2.71497237e-01],\n",
       "       [  6.97956118e-01,   9.69590314e-01],\n",
       "       [  6.28975594e-01,  -4.05952250e-01],\n",
       "       [ -8.07352043e-01,  -5.69344429e-01],\n",
       "       [  7.50513587e-01,  -3.35864916e-01],\n",
       "       [ -8.86102697e-02,   4.40138269e-01],\n",
       "       [  5.27328312e-01,  -6.49054403e-01],\n",
       "       [  7.06604120e-01,   1.78838014e-01],\n",
       "       [  2.88064974e-01,   3.20632603e-01],\n",
       "       [  9.46855625e-01,   6.57937799e-01],\n",
       "       [  9.33506963e-01,  -4.01388919e-01],\n",
       "       [  9.78535755e-01,  -6.12117275e-01],\n",
       "       [  3.04242968e-01,   3.87614958e-03],\n",
       "       [ -9.83553656e-01,   3.61035267e-02],\n",
       "       [  9.17620157e-02,   1.37770178e-01],\n",
       "       [  7.18673201e-01,   6.36573904e-01],\n",
       "       [ -9.87262350e-01,   2.18796564e-01],\n",
       "       [  6.24197581e-01,   1.98318112e-01],\n",
       "       [ -5.15941345e-01,  -1.05179025e-02],\n",
       "       [  4.99607897e-01,   9.00876707e-01],\n",
       "       [  8.74879113e-02,   5.86658347e-01],\n",
       "       [  2.33945361e-01,   7.97389388e-01],\n",
       "       [ -9.55383445e-01,  -9.66594696e-01],\n",
       "       [ -6.07568858e-01,  -5.32721184e-02],\n",
       "       [  5.60151514e-01,  -2.18363747e-01],\n",
       "       [  1.84710896e-01,   9.96696734e-01],\n",
       "       [  3.50805415e-01,  -3.35809889e-01],\n",
       "       [  4.64853759e-01,  -8.62874916e-01],\n",
       "       [ -5.73361800e-01,  -3.05157412e-01],\n",
       "       [ -5.05772116e-01,   2.60264958e-01],\n",
       "       [  6.75577826e-01,  -8.37264780e-01],\n",
       "       [ -2.78640239e-01,  -2.97892102e-01],\n",
       "       [  3.79349218e-01,  -4.34144854e-02],\n",
       "       [  1.70738365e-01,   4.55030709e-01],\n",
       "       [ -7.51921554e-01,   2.65728234e-01],\n",
       "       [ -9.87621929e-01,   5.49673590e-01],\n",
       "       [  2.33172182e-04,  -6.18091287e-01],\n",
       "       [ -5.82728813e-01,   8.30225727e-01],\n",
       "       [ -8.41383876e-01,   8.47668422e-01],\n",
       "       [  5.43978071e-01,   3.97138855e-01],\n",
       "       [ -7.88874956e-01,  -9.00658704e-01],\n",
       "       [  9.08681187e-01,   3.48917013e-01],\n",
       "       [ -2.48199091e-01,   1.09219818e-01],\n",
       "       [ -9.14398081e-01,  -5.39752028e-01],\n",
       "       [  4.71180144e-02,  -2.76859074e-01],\n",
       "       [  5.38296998e-01,  -4.08535070e-01],\n",
       "       [  2.28299437e-01,   4.45261933e-02],\n",
       "       [  2.03058779e-01,   8.80298759e-01],\n",
       "       [  4.58478773e-01,  -6.15991509e-01],\n",
       "       [  6.82643148e-01,   9.35100656e-01],\n",
       "       [  6.83163161e-01,   2.64999767e-01],\n",
       "       [ -5.09121010e-01,   3.50982852e-01],\n",
       "       [  6.55622452e-01,   6.18678657e-01],\n",
       "       [  9.04343670e-01,  -8.89728632e-01],\n",
       "       [  5.71754127e-02,  -2.49753682e-01],\n",
       "       [ -4.61917309e-01,  -1.95118280e-01],\n",
       "       [ -2.83863258e-01,  -5.49780143e-01],\n",
       "       [  1.95563753e-01,  -9.75957198e-01],\n",
       "       [ -8.60964043e-01,  -8.22505365e-01],\n",
       "       [  9.66786340e-01,  -6.26452678e-01],\n",
       "       [ -9.55305570e-01,  -3.98799411e-01],\n",
       "       [  2.77202857e-01,   8.11737208e-01],\n",
       "       [ -7.21773296e-01,   6.13167297e-01],\n",
       "       [ -3.97481336e-01,   1.97328577e-01],\n",
       "       [  6.02289796e-01,  -7.52861816e-01],\n",
       "       [ -9.62525704e-01,   8.15002840e-02],\n",
       "       [  3.30331497e-01,  -5.60074955e-01],\n",
       "       [ -5.74178769e-01,  -4.44827524e-01],\n",
       "       [  1.09634992e-01,  -9.90876685e-01],\n",
       "       [  1.85965962e-01,  -4.41568280e-01],\n",
       "       [ -6.72529875e-01,  -3.97309177e-01],\n",
       "       [  5.15600909e-01,  -8.92436478e-01],\n",
       "       [ -8.94342296e-02,   3.56085450e-01],\n",
       "       [ -8.17236026e-01,  -3.65022282e-01],\n",
       "       [ -5.62612848e-01,   2.93364361e-01],\n",
       "       [  8.26817723e-01,  -5.00844099e-01],\n",
       "       [  7.73076572e-01,  -8.12574046e-01],\n",
       "       [  5.91726339e-01,   2.51497609e-01],\n",
       "       [  6.39848294e-01,   2.58924182e-01]])"
      ]
     },
     "execution_count": 1,
     "metadata": {},
     "output_type": "execute_result"
    }
   ],
   "source": [
    "import numpy as np\n",
    "\n",
    "def samp_uniform_rand_vect(low,high,n,d):\n",
    "    X = np.random.uniform(low=low,high=high,size=(n,d))\n",
    "    return(X)\n",
    "\n",
    "X = samp_uniform_rand_vect(-1,1,100,2)\n",
    "X"
   ]
  },
  {
   "cell_type": "markdown",
   "metadata": {},
   "source": []
  },
  {
   "cell_type": "code",
   "execution_count": 41,
   "metadata": {
    "collapsed": true
   },
   "outputs": [],
   "source": [
    "def avg_min_angle(X):\n",
    "    # Function returns the average of all the minimum angles.\n",
    "    angles=[]\n",
    "    for x_o in X:\n",
    "        ang_in = []\n",
    "        for x in X:\n",
    "            if x_o is not x:\n",
    "                #We use the inbuilt cosine distance function to find Cos(A)\n",
    "                ang_in += [cosine(x_o,x)]\n",
    "        #Here, we add only the minimum angle to the list. The minimum angle is found using the arccos function.\n",
    "        angles += [np.arccos(min(ang_in))]\n",
    "    return np.average(np.array(angles))"
   ]
  },
  {
   "cell_type": "code",
   "execution_count": 40,
   "metadata": {},
   "outputs": [
    {
     "name": "stdout",
     "output_type": "stream",
     "text": [
      "Case \td= 2\tn=100\n",
      "Average Min Angle:1.5707963267948963\n",
      "-----\n",
      "done.\n",
      "Execution Time: 4.938307134310405 min.\n",
      "-----\n",
      "\n"
     ]
    }
   ],
   "source": [
    "#variable denoting dimension of the vector\n",
    "n = 100\n",
    "#generate n1 x d1 random vectors from  uniform[-1,1]\n",
    "min_angle_avg=[]\n",
    "tic = time.time()\n",
    "for i,d in enumerate(range(2,1000)):\n",
    "    #Generate random vectors as per requirement. Vectors drawn from a uniform distribution.\n",
    "    X = np.random.uniform(-1,1,(n,d))\n",
    "    #get average fo minimum angles for each dimension d=[2,1000]\n",
    "    min_angle_avg += [avg_min_angle(X)]\n",
    "    #print(i)\n",
    "    if d is 2:\n",
    "        print('Case \\td= 2\\tn=100')\n",
    "        print('Average Min Angle:'+str(min_angle_avg[i]))\n",
    "toc = time.time()\n",
    "print('-----')\n",
    "print('done.')      \n",
    "print('Execution Time: '+str((toc-tic)/60)+' min.\\n-----\\n')"
   ]
  },
  {
   "cell_type": "code",
   "execution_count": 35,
   "metadata": {},
   "outputs": [
    {
     "data": {
      "image/png": "[encoded data removed]",
      "text/plain": [
       "<Figure size 432x288 with 1 Axes>"
      ]
     },
     "metadata": {
      "needs_background": "light"
     },
     "output_type": "display_data"
    }
   ],
   "source": [
    "#We plot here.\n",
    "x_a = np.arange(2,1000)\n",
    "_ = plt.plot(x_a,min_angle_avg,'r')\n",
    "_ = plt.axis([2,1000,0,max(min_angle_avg)+1])\n",
    "_ = plt.title('Plot: Dimensions vs. Avg. Angle')\n",
    "_ = plt.xlabel('Dimensions')\n",
    "_ = plt.ylabel('Avg. Angle')\n",
    "_ = plt.show()\n"
   ]
  },
  {
   "cell_type": "code",
   "execution_count": 39,
   "metadata": {},
   "outputs": [
    {
     "name": "stdout",
     "output_type": "stream",
     "text": [
      "------\n",
      "n=2\n",
      "Average Min Angle:1.5707963267948963\n",
      "------\n",
      "n=100\n",
      "Average Min Angle:1.5707963267948963\n",
      "------\n",
      "n=250\n",
      "Average Min Angle:1.5707963267948963\n",
      "\n",
      "\n",
      "Execution Time: 0.03259810209274292 min.\n"
     ]
    }
   ],
   "source": [
    "#Here we find average of minimum angles for different sample sizes.\n",
    "n = [2,100,250]\n",
    "d = 2\n",
    "tic = time.time()\n",
    "for ni in n:\n",
    "    X = np.random.uniform(-1,1,(ni,d))\n",
    "    min_ang_avg = avg_min_angle(X)\n",
    "    print('------\\nn='+str(ni))\n",
    "    print('Average Min Angle:'+str(min_angle_avg[i]))\n",
    "toc = time.time()\n",
    "print('\\n\\nExecution Time: '+str((toc-tic)/60)+ ' min.')"
   ]
  },
  {
   "cell_type": "markdown",
   "metadata": {},
   "source": [
    "### Result Interpretation:\n",
    "\n",
    "<li> We see that for any  pair of random vectors drawn from $\\backsim Uniform(-1,1)^d$   $\\forall d \\geqslant 2$, the average angle between them is <strong>1.570 degrees</strong>.</li>\n",
    "<li> The result remains the same irrespective of how large the sample size is.</li>"
   ]
  },
  {
   "cell_type": "markdown",
   "metadata": {},
   "source": [
    "### Task 3:\n",
    "\n",
    "###### -Aadhi + Shyam\n",
    "<br>\n",
    "<li>Yes, because the total probablity, $\\sideset{}{_{x=1}^2}\\sum\\sideset{}{_{y=1}^3}\\sum P(x,y) = 1$.</li><br>\n",
    "<li><p>We know that $\\mathbb{E}_{Y|X=2}[Y]$ is just the mean of $p(Y|X=2)$.<br>\n",
    "    Therefore, $\\mathbb{E}_{Y|X=2}[Y] = \\frac{1}{3}(p(Y=1|X=2)+p(Y=2|X=2)+p(Y=3|X=2) = \\frac{1}{3}(0.4 + 0.14 + 0.05) = 0.1966$.</p></li><br>\n",
    "<li> <p>Condition for joint density function :<br>\n",
    "$p(x,y) >= 0$ for all x,y and $\\sideset{}{_{x = 0} ^\\infty}\\int \\sideset{}{_{y = 0} ^\\infty}\\int p(x,y) dxdy = 1  $ <br>\n",
    "    From the function defined, we can say that $p(x,y) >= 0$ <br>\n",
    "    $\\sideset{}{_{x = 0} ^\\infty}\\int \\sideset{}{_{y = 0} ^\\infty}\\int p(x,y) dxdy = \\sideset{}{_{x = 0} ^1}\\int \\sideset{}{_{y = 0} ^\\frac{1}{2}}\\int 1 dxdy = \\sideset{}{_{x = 0} ^1}\\int \\frac{1}{2} dx = \\frac{1}{2}  $ <br>\n",
    "    As $\\sideset{}{_{x = 0} ^\\infty}\\int \\sideset{}{_{y = 0} ^\\infty}\\int p(x,y) dxdy \\neq 1  $ , $p(x,y)$ is not a joint density function </p></li><br>\n",
    "<li>We know that $p(x,y) = 2e^{-(x+y)}$ for  $0\\leqslant x\\leqslant y, 0\\leqslant y$. \n",
    "    <h5>Marginal Density of X:</h5><br> Marginal Density of X is obtained by integrating the Joint PDF over the range of Y.<br>\n",
    "    $p(X) = \\sideset{}{_{y = 0} ^\\infty}\\int p(x,y) dy = \\sideset{}{_{y = 0} ^\\infty}\\int2e^{-(x+y)} dy = 2e^{-x}  $<br>\n",
    "    Similarly, Marginal PDF of Y is obtained by integrating the Joint over X.<br>\n",
    "    $p(X) = \\sideset{}{_{x = 0} ^y}\\int p(x,y) dx = \\sideset{}{_{x = -0} ^y}\\int2e^{-(x+y)} dx = 2(e^{-y}-e^{-2y})$\n",
    "</li><br>\n",
    "<li><p> $p(x,y) = \\frac{1}{15} (2x + 4y) \\hspace{5mm} 0<x<3 , 0<y<1 $  <br>\n",
    "              $ \\hspace{3cm} 0 \\hspace{5mm}otherwise$ <br>\n",
    "            To find   $ Pr(X \\leqslant 2 | Y = \\frac{1}{2}) $ <br>\n",
    "            $ p_{X|Y} (x|y) = \\frac{p_{X,Y} (x,y)}{p_{Y} (y)} $ <br>\n",
    "            $p_{Y}(y) = \\sideset{}{_{x = -\\infty} ^\\infty}\\int p_{X,Y}(x,y) dx = \\sideset{}{_{x = -\\infty} ^0}\\int p_{X,Y}(x,y) dx + \\sideset{}{_{x = 0} ^3}\\int p_{X,Y}(x,y) dx + \\sideset{}{_{x = 3} ^\\infty}\\int p_{X,Y}(x,y) dx $ <br>\n",
    "            $\\hspace{5cm} =  0 + \\sideset{}{_{x = 0} ^3} \\int \\frac{1}{15} (2x + 4y) dx + 0  $ <br>\n",
    "            $\\hspace{5cm} =  \\frac{1}{15} [x^2 + 4xy] _{0} ^3  = \\frac{1}{15}(9 + 12y) $ <br>            \n",
    "            $ p_{X|Y} (x|y) = \\frac{p_{X,Y} (x,y)}{p_{Y} (y)} = \\frac{\\frac{1}{15} (2x + 4y)}{\\frac{1}{15}(9 + 12y)} = \\frac{ (2x + 4y)}{(9 + 12y)} \\hspace{5mm} 0<x<3 , 0<y<1 $ <br>\n",
    "            $ \\hspace{3cm} 0 \\hspace{5mm}otherwise$ <br> \n",
    "            $ p_{X|Y} (x|y=\\frac{1}{2}) = \\frac{ (2x + 4 \\frac{1}{2})}{(9 + 12 \\frac{1}{2})} = \\frac{2x + 2}{9 + 6} = \\frac{2(x + 1)}{15} \\hspace{5mm} 0<x<3 $ <br>\n",
    "            $ \\hspace{3cm} 0 \\hspace{5mm}otherwise$ <br> \n",
    "             $ Pr(X \\leqslant 2 | Y = \\frac{1}{2}) = \\sideset{}{_{x = -\\infty} ^2}\\int p_{X|Y} (x|y=\\frac{1}{2}) dx $ <br>\n",
    "             $\\hspace{3cm} = \\sideset{}{_{x = -\\infty} ^0}\\int p_{X|Y} (x|y=\\frac{1}{2}) dx + \\sideset{}{_{x = 0} ^2}\\int p_{X|Y} (x|y=\\frac{1}{2}) dx $ <br>\n",
    "             $\\hspace{3cm} = 0 + \\frac{2}{15}\\sideset{}{_{x = 0} ^2}\\int (x + 1) dx $ <br>\n",
    "             $\\hspace{3cm} = \\frac{2}{15} [\\frac{x^2}{2} + x] _{0} ^2 $ <br>\n",
    "             $\\hspace{3cm} = \\frac{8}{15} $ <br>\n",
    "             \n",
    "   </p>   </li><br>\n"
   ]
  },
  {
   "cell_type": "markdown",
   "metadata": {},
   "source": [
    "### Task 4:\n",
    "\n",
    "###### -Adhi\n",
    "\n",
    "<li> <h6>To prove that covarience matrix $C$ of a random variable $X \\in \\mathbb{R}^p$ is positive semi-difinite, we have to prove $xCx^T \\geqslant 0$ $\\forall x \\in \\mathbb{R}^p$.</h6>\n",
    "    <p>\n",
    "        Let $X \\in \\mathbb{R}^p = (X_{1},X_{2},...X_{p})$<br><br>\n",
    "        Then the mean is given by:<br>\n",
    "        $\\overline{X} = \\frac{1}{p}\\sideset{}{_{i=1}^p}\\sum X_i$<br><br>\n",
    "        Then the Covarience Matrix is:<br>\n",
    "        $C = \\frac{1}{p}\\sideset{}{_{i=1}^p}\\sum(X_i-\\overline{X})(X_i-\\overline{X})^T$<br><br>\n",
    "        For any non-zero vector $x\\in\\mathbb{R}^p$:<br>\n",
    "        $x^TCx = x^T(\\frac{1}{p}\\sideset{}{_{i=1}^p}\\sum(X_i-\\overline{X})(X_i-\\overline{X})^T)x$<br>\n",
    "        $= \\frac{1}{n}\\sideset{}{_{i=1}^p}\\sum x^T(X_i-\\overline{X})(X_i-\\overline{X})^Tx$\n",
    "        $= \\frac{1}{n}\\sideset{}{_{i=1}^p}\\sum ((X_i-\\overline{X}))^2x \\geqslant 0$.    $(*)$<br>\n",
    "        <br> $(*)$ is always positive because of the square term. Therefore, Covarience matrix C is always positive semi-definite.<br>\n",
    "   </p>\n",
    "</li>\n",
    "<li><h6>To prove Covarience Matrix is symmetric.</h6>\n",
    "<p>Let $C$ be the covarience matrix of $X \\in \\mathbb{R}^p$. LEt $\\overline{X}$ be the mean of $X$.\n",
    "<br>Then varience between any $X_i$ and $X_j$ is the $(i,j)^{th}$ element of $C$, <br>\n",
    "    $C_{ij} = E[(X_i - \\overline{X})(X_j - \\overline{X})] = \\sigma_{ij}$    $(1)$<br><br>\n",
    "    Then, <br>\n",
    "    $C_{ji} = E[(X_j - \\overline{X})(X_i - \\overline{X})] = \\sigma_{ji}$    $(2)$<br><br>\n",
    "    We clearly see that,<br>\n",
    "    $(1) == (2)$<br><br>\n",
    "    Therefore, we can say that the covarience matrix C is symmetric, i.e. $C = C^T$.\n",
    "    </p>\n",
    "</li>\n",
    "\n",
    "###### Hence, we've proven that the covarience matrix C for any random variable X is symmetric and positive semi-definite."
   ]
  },
  {
   "cell_type": "code",
   "execution_count": null,
   "metadata": {
    "collapsed": true
   },
   "outputs": [],
   "source": []
  }
 ],
 "metadata": {
  "kernelspec": {
   "display_name": "Python 3",
   "language": "python",
   "name": "python3"
  },
  "language_info": {
   "codemirror_mode": {
    "name": "ipython",
    "version": 3
   },
   "file_extension": ".py",
   "mimetype": "text/x-python",
   "name": "python",
   "nbconvert_exporter": "python",
   "pygments_lexer": "ipython3",
   "version": "3.6.3"
  }
 },
 "nbformat": 4,
 "nbformat_minor": 2
}
