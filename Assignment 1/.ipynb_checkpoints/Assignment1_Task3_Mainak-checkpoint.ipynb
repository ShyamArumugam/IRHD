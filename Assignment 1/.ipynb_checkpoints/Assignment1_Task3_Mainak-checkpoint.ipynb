{
 "cells": [
  {
   "cell_type": "markdown",
   "metadata": {},
   "source": [
    "# Task 3"
   ]
  },
  {
   "cell_type": "markdown",
   "metadata": {},
   "source": [
    "a) Yes, it is a probability table. All the probability values are non negative and total probability of this joint distribution is $0.4+0.14+0.05+0.02+0.26+0.13=1$\n",
    "\n",
    "b) Need to find $E_{Y|X=2}[Y]$\n",
    "\n",
    "So, $Pr(X=2)=0.4+0.14+0.05=0.59$\n",
    "\n",
    "$Pr(Y=1|X=2)=\\frac{0.4}{0.59}=0.68$, $Pr(Y=2|X=2)=\\frac{0.14}{0.59}=0.237$, $Pr(Y=3|X=2)=\\frac{0.05}{0.59}=0.085$\n",
    "\n",
    "Now, $E_{Y|X=2}[Y]=\\Sigma YPr(Y|X=2)=1*0.68+2*0.237+3*0.085=1.409$\n",
    "\n",
    "Need to find $Pr(X=1|Y=3)$\n",
    "\n",
    "$Pr(X=1|Y=3)=\\frac{Pr(X=1,Y=3)}{Pr(Y=3)}=\\frac{0.13}{0.18}=0.722$\n",
    "\n",
    "c) $\\int_{0}^{1/2}$ $\\int_{0}^{1} 1 dxdy$ = 0.5 $\\neq$ 1, so this is not joint density function.\n",
    "\n",
    "d) $pr_X(x) = \\int\\limits_{0}^{\\infty}pr_{X,Y}(x,y)\\,dy = \\int\\limits_{0}^{\\infty}2e^{-(x+y)}\\,dy = [-2e^{-(x+y)}]_{0}^{\\infty} = 2e^{-x}$\n",
    "\n",
    "$pr_Y(y) = \\int\\limits_{0}^{y}pr_{X,Y}(x,y)\\,dx = \\int\\limits_{0}^{y}2e^{-(x+y)}\\,dx = [-2e^{-(x+y)}]_{0}^{y} = 2e^{-y} - 2e^{-2y}$\n",
    "\n",
    "e) $Pr(X≤2|Y=0.5) = \\frac{Pr(X≤2,Y=0.5)}{Pr(Y=0.5)}$\n",
    "\n",
    "$Pr(X≤2,Y=0.5)=\\frac{1}{15} \\int_0^2 (2x+4*0.5)dx=\\frac{8}{15}$\n",
    "\n",
    "$Pr(Y)=\\frac{1}{15} \\int_0^3 (2x+4y)dx=\\frac{1}{5}(3+4y)$\n",
    "\n",
    "$Pr(Y=0.5)=1$\n",
    "\n",
    "So, $Pr(X≤2|Y=0.5)=\\frac{\\frac{8}{15}}{1}=\\frac{8}{15}$"
   ]
  },
  {
   "cell_type": "code",
   "execution_count": null,
   "metadata": {
    "collapsed": true
   },
   "outputs": [],
   "source": []
  }
 ],
 "metadata": {
  "kernelspec": {
   "display_name": "Python 3",
   "language": "python",
   "name": "python3"
  },
  "language_info": {
   "codemirror_mode": {
    "name": "ipython",
    "version": 3
   },
   "file_extension": ".py",
   "mimetype": "text/x-python",
   "name": "python",
   "nbconvert_exporter": "python",
   "pygments_lexer": "ipython3",
   "version": "3.6.3"
  }
 },
 "nbformat": 4,
 "nbformat_minor": 2
}
